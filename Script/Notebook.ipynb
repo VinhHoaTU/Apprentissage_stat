{
 "cells": [
  {
   "cell_type": "code",
   "execution_count": 90,
   "metadata": {},
   "outputs": [],
   "source": [
    "import pandas as pd\n",
    "from sklearn.model_selection import train_test_split\n",
    "from sklearn.svm import SVC\n",
    "from sklearn.tree import DecisionTreeClassifier\n",
    "from sklearn.ensemble import RandomForestClassifier"
   ]
  },
  {
   "cell_type": "code",
   "execution_count": 2,
   "metadata": {},
   "outputs": [],
   "source": [
    "# Import et concaténation des deux fichiers source\n",
    "path = \"../Data/\"\n",
    "df_source1 = pd.read_csv(path + \"Sleep_health_and_lifestyle_dataset.csv\")\n",
    "df_source2 = pd.read_csv(path + \"Sleep_health_and_lifestyle_dataset_part_2.csv\")\n",
    "df = pd.concat([df_source1, df_source2])\n",
    "\n",
    "# Person ID 374 est un doublon\n",
    "df.drop(index=373, inplace=True)\n",
    "\n",
    "df.reset_index(drop=True, inplace=True)"
   ]
  },
  {
   "cell_type": "code",
   "execution_count": 3,
   "metadata": {},
   "outputs": [],
   "source": [
    "# Modification des noms de colonne, on supprime les espaces\n",
    "mapper = {\n",
    "    \"Person ID\" : \"PersonID\",\n",
    "    \"Sleep Duration\" : \"SleepDuration\",\n",
    "    \"Quality of Sleep\" : \"QualitySleep\",\n",
    "    \"Physical Activity Level\" : \"PhysicalActivityLevel\",\n",
    "    \"Stress Level\" : \"StressLevel\",\n",
    "    \"BMI Category\" : \"BMI_Category\",\n",
    "    \"Blood Pressure\" : \"BloodPressure\",\n",
    "    \"Heart Rate\" : \"HeartRate\",\n",
    "    \"Daily Steps\" : \"DailySteps\",\n",
    "    \"Sleep Disorder\" : \"SleepDisorder\"\n",
    "}\n",
    "df.rename(columns=mapper, inplace=True)\n",
    "\n",
    "# On rectifie le type des variables (par défaut importées comme object)\n",
    "new_types = {\n",
    "    \"Gender\" : \"string\",\n",
    "    \"Occupation\" : \"string\",\n",
    "    \"BMI_Category\" : \"string\",\n",
    "    \"BloodPressure\" : \"string\",\n",
    "    \"SleepDisorder\" : \"string\"\n",
    "}\n",
    "df = df.astype(new_types)"
   ]
  },
  {
   "cell_type": "code",
   "execution_count": null,
   "metadata": {},
   "outputs": [
    {
     "data": {
      "text/plain": [
       "PersonID                 0\n",
       "Gender                   0\n",
       "Age                      0\n",
       "Occupation               0\n",
       "SleepDuration            0\n",
       "QualitySleep             0\n",
       "PhysicalActivityLevel    0\n",
       "StressLevel              0\n",
       "BMI_Category             0\n",
       "BloodPressure            0\n",
       "HeartRate                0\n",
       "DailySteps               0\n",
       "SleepDisorder            0\n",
       "dtype: int64"
      ]
     },
     "execution_count": 4,
     "metadata": {},
     "output_type": "execute_result"
    }
   ],
   "source": [
    "# On sait qu'on n'a aucune valeur manquante pour SleepDisorder (None dans le fichier source)\n",
    "# On crée une nouvelle catégorie pour les personnes sans trouble du sommeil\n",
    "df.loc[df[\"SleepDisorder\"].isna(), \"SleepDisorder\"] = \"Healthy\"\n",
    "\n",
    "# On vérifie qu'on n'a aucune donnée manquante par ailleurs\n",
    "df.isna().sum()"
   ]
  },
  {
   "cell_type": "code",
   "execution_count": 5,
   "metadata": {},
   "outputs": [],
   "source": [
    "# On sépare la tension en pression systolique et pression diastolique\n",
    "for i in range(0,len(df)):\n",
    "    pressure_list = df.loc[i,\"BloodPressure\"].split(sep='/')\n",
    "    df.loc[i,\"BloodPressureSystolic\"] = int(pressure_list[0])\n",
    "    df.loc[i,\"BloodPressureDiastolic\"] = int(pressure_list[1])\n",
    "df.drop(columns=\"BloodPressure\", inplace=True)\n",
    "\n",
    "# Encodage des variables catégorielles\n",
    "def OneHot(df, columns):\n",
    "    '''\n",
    "    One Hot Encoding pour une variable catégorielle.\n",
    "    '''\n",
    "    for column in columns:\n",
    "        for iter in df[column].unique():\n",
    "            name = iter.replace(\" \", \"\")\n",
    "            df[name] = 0\n",
    "            df.loc[df[column]==iter,name] = 1\n",
    "    \n",
    "    df.drop(columns=columns, inplace=True)\n",
    "\n",
    "    return df\n",
    "\n",
    "df = OneHot(df, [\"Gender\", \"Occupation\", \"BMI_Category\"])\n",
    "\n",
    "# Encodage de la variable à expliquer SleepDisorder\n",
    "encoding = {\"Healthy\": 0, \"Insomnia\": 1, \"Sleep Apnea\": 2} # 3 labels : sain, insomnie, apnée du sommeil\n",
    "df[\"SleepDisorderEncoded\"] = df[\"SleepDisorder\"].map(encoding)\n",
    "encoding = {\"Healthy\": 0, \"Insomnia\": 1, \"Sleep Apnea\": 1} # 2 labels : avec vs sans trouble\n",
    "df[\"HasSleepDisorder\"] = df[\"SleepDisorder\"].map(encoding)\n",
    "df.drop(columns=\"SleepDisorder\", inplace=True)"
   ]
  },
  {
   "cell_type": "code",
   "execution_count": 34,
   "metadata": {},
   "outputs": [],
   "source": [
    "# Découpage en train/test\n",
    "X_train, X_test, y_train, y_test = train_test_split(df.drop(columns=[\"PersonID\",\"SleepDisorderEncoded\", \"HasSleepDisorder\"]), \n",
    "                                                    df[[\"SleepDisorderEncoded\",\"HasSleepDisorder\"]], random_state=42,\n",
    "                                                    stratify=df[\"SleepDisorderEncoded\"])"
   ]
  },
  {
   "cell_type": "code",
   "execution_count": 71,
   "metadata": {},
   "outputs": [
    {
     "data": {
      "text/plain": [
       "0.9214285714285714"
      ]
     },
     "execution_count": 71,
     "metadata": {},
     "output_type": "execute_result"
    }
   ],
   "source": [
    "SVM_HAS = SVC(kernel=\"linear\", max_iter=100000000, random_state=42).fit(X_train, y_train[\"HasSleepDisorder\"])\n",
    "pred_train = SVM_HAS.predict(X_train)\n",
    "pred_test = SVM_HAS.predict(X_test)\n",
    "len(y_test[y_test[\"HasSleepDisorder\"]==pred_test])/len(y_test)"
   ]
  },
  {
   "cell_type": "code",
   "execution_count": 73,
   "metadata": {},
   "outputs": [
    {
     "data": {
      "text/plain": [
       "0.9142857142857143"
      ]
     },
     "execution_count": 73,
     "metadata": {},
     "output_type": "execute_result"
    }
   ],
   "source": [
    "SVM_MULTI = SVC(kernel=\"linear\", max_iter=100000000, random_state=42).fit(X_train, y_train[\"SleepDisorderEncoded\"])\n",
    "pred_train = SVM_MULTI.predict(X_train)\n",
    "pred_test = SVM_MULTI.predict(X_test)\n",
    "len(y_test[y_test[\"SleepDisorderEncoded\"]==pred_test])/len(y_test)"
   ]
  },
  {
   "cell_type": "code",
   "execution_count": 78,
   "metadata": {},
   "outputs": [
    {
     "data": {
      "text/plain": [
       "0.8928571428571429"
      ]
     },
     "execution_count": 78,
     "metadata": {},
     "output_type": "execute_result"
    }
   ],
   "source": [
    "TREE_MULTI = DecisionTreeClassifier(random_state=42).fit(X_train, y_train[\"SleepDisorderEncoded\"])\n",
    "pred_train = TREE_MULTI.predict(X_train)\n",
    "pred_test = TREE_MULTI.predict(X_test)\n",
    "len(y_test[y_test[\"SleepDisorderEncoded\"]==pred_test])/len(y_test)"
   ]
  },
  {
   "cell_type": "code",
   "execution_count": 89,
   "metadata": {},
   "outputs": [
    {
     "data": {
      "text/plain": [
       "0.9285714285714286"
      ]
     },
     "execution_count": 89,
     "metadata": {},
     "output_type": "execute_result"
    }
   ],
   "source": [
    "TREE_MULTI = DecisionTreeClassifier(ccp_alpha=0.01, random_state=42).fit(X_train, y_train[\"SleepDisorderEncoded\"])\n",
    "pred_train = TREE_MULTI.predict(X_train)\n",
    "pred_test = TREE_MULTI.predict(X_test)\n",
    "len(y_test[y_test[\"SleepDisorderEncoded\"]==pred_test])/len(y_test)"
   ]
  },
  {
   "cell_type": "code",
   "execution_count": 91,
   "metadata": {},
   "outputs": [
    {
     "data": {
      "text/plain": [
       "0.9214285714285714"
      ]
     },
     "execution_count": 91,
     "metadata": {},
     "output_type": "execute_result"
    }
   ],
   "source": [
    "FOREST_MULTI = RandomForestClassifier(random_state=42).fit(X_train, y_train[\"SleepDisorderEncoded\"])\n",
    "pred_train = FOREST_MULTI.predict(X_train)\n",
    "pred_test = FOREST_MULTI.predict(X_test)\n",
    "len(y_test[y_test[\"SleepDisorderEncoded\"]==pred_test])/len(y_test)"
   ]
  },
  {
   "cell_type": "code",
   "execution_count": null,
   "metadata": {},
   "outputs": [],
   "source": []
  }
 ],
 "metadata": {
  "kernelspec": {
   "display_name": "Python 3",
   "language": "python",
   "name": "python3"
  },
  "language_info": {
   "codemirror_mode": {
    "name": "ipython",
    "version": 3
   },
   "file_extension": ".py",
   "mimetype": "text/x-python",
   "name": "python",
   "nbconvert_exporter": "python",
   "pygments_lexer": "ipython3",
   "version": "3.12.3"
  }
 },
 "nbformat": 4,
 "nbformat_minor": 2
}
